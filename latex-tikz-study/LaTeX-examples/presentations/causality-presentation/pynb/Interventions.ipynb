{
 "cells": [
  {
   "cell_type": "code",
   "execution_count": 1,
   "metadata": {
    "collapsed": true
   },
   "outputs": [],
   "source": [
    "from scipy.stats import bernoulli\n",
    "import matplotlib.pyplot as plt; plt.rcdefaults()\n",
    "import numpy as np\n",
    "import matplotlib.pyplot as plt\n",
    "from sympy import latex"
   ]
  },
  {
   "cell_type": "code",
   "execution_count": 8,
   "metadata": {
    "collapsed": false
   },
   "outputs": [],
   "source": [
    "def generate_data(n):\n",
    "    \"\"\"\n",
    "    Generate n datapoints for 3 variables A, H, B\n",
    "    with the model\n",
    "    A -> H -> B\n",
    "    \"\"\"\n",
    "\n",
    "    data = []\n",
    "    for i in range(n):\n",
    "        N_A = bernoulli.rvs(1./20)\n",
    "        N_H = bernoulli.rvs(1./3)\n",
    "        N_B = bernoulli.rvs(1./2)\n",
    "        A = N_A\n",
    "        H = (A + N_H) % 2\n",
    "        B = (H + N_B) % 2\n",
    "        data.append((A, H, B))\n",
    "    return data"
   ]
  },
  {
   "cell_type": "code",
   "execution_count": 11,
   "metadata": {
    "collapsed": false
   },
   "outputs": [
    {
     "data": {
      "image/png": "[encoded data removed]",
      "text/plain": [
       "<matplotlib.figure.Figure at 0x7fc41c826cd0>"
      ]
     },
     "metadata": {},
     "output_type": "display_data"
    },
    {
     "name": "stdout",
     "output_type": "stream",
     "text": [
      "p(H=0|A=0) = 0.67\n",
      "p(H=0|A=1) = 0.32\n",
      "p(H=0|B=0) = 0.65\n",
      "p(H=0|B=1) = 0.65\n"
     ]
    }
   ],
   "source": [
    "%matplotlib inline\n",
    "\n",
    "\n",
    "data = generate_data(100000)\n",
    "\n",
    "# Example data\n",
    "people = ('(0,0,0)', '(0,0,1)', '(0,1,0)', '(0,1,1)', '(1,0,0)', '(1,0,1)', '(1,1,0)', '(1,1,1)')\n",
    "get_bin = lambda x, n: x >= 0 and str(bin(x))[2:].zfill(n) or \"-\" + str(bin(x))[3:].zfill(n)\n",
    "y_pos = np.arange(len(people))\n",
    "# ('(0,0,0)', '(0,0,1)', '(0,1,0)', '(0,1,1)', '(1,0,0)', '(1,0,1)', '(1,1,0)', '(1,1,1)')\n",
    "count = [sum([1 for d in data if map(int, list(get_bin(i, 3))) == list(d)]) for i in range(8)]\n",
    "\n",
    "error = np.random.rand(len(people))\n",
    "\n",
    "plt.barh(y_pos, count, xerr=error, align='center', alpha=0.4)\n",
    "plt.yticks(y_pos, people)\n",
    "plt.xlabel('Anzahl fur (A, H, B)')\n",
    "plt.title('Ergebnisse')\n",
    "\n",
    "plt.show()\n",
    "\n",
    "from sympy.interactive import printing\n",
    "printing.init_printing(use_latex=True)\n",
    "p_1 = (count[0] + count[1])  # h=0 and A=0\n",
    "p_2 = (count[4] + count[5])  # h=0 and A=1\n",
    "p_3 = (count[2] + count[3])  # h=1 and A=0\n",
    "p_4 = (count[6] + count[7])  # h=1 and A=1\n",
    "print(latex(\"p(H=0|A=0) = %0.2f\" % (p_1/float(p_1+p_3))))\n",
    "print(latex(\"p(H=0|A=1) = %0.2f\" % (p_2/float(p_2+p_4))))\n",
    "\n",
    "p_1 = (count[0] + count[4])  # h=0 and B=0\n",
    "p_2 = (count[1] + count[5])  # h=0 and B=1\n",
    "p_3 = (count[2] + count[6])  # h=1 and B=0\n",
    "p_4 = (count[3] + count[7])  # h=1 and B=1\n",
    "print(latex(\"p(H=0|B=0) = %0.2f\" % (p_1/float(p_1+p_3))))\n",
    "print(latex(\"p(H=0|B=1) = %0.2f\" % (p_2/float(p_2+p_4))))"
   ]
  },
  {
   "cell_type": "code",
   "execution_count": null,
   "metadata": {
    "collapsed": true
   },
   "outputs": [],
   "source": []
  }
 ],
 "metadata": {
  "kernelspec": {
   "display_name": "Python 2",
   "language": "python",
   "name": "python2"
  },
  "language_info": {
   "codemirror_mode": {
    "name": "ipython",
    "version": 2
   },
   "file_extension": ".py",
   "mimetype": "text/x-python",
   "name": "python",
   "nbconvert_exporter": "python",
   "pygments_lexer": "ipython2",
   "version": "2.7.8"
  }
 },
 "nbformat": 4,
 "nbformat_minor": 0
}
